{
 "cells": [
  {
   "cell_type": "code",
   "execution_count": 2,
   "metadata": {},
   "outputs": [],
   "source": [
    "import pandas as pd"
   ]
  },
  {
   "cell_type": "code",
   "execution_count": 3,
   "metadata": {},
   "outputs": [],
   "source": [
    "# Patient Info - Name, Age, Sex, Height in Meters, Weight in Kg, Diet Type, Country\n",
    "p_info = ['Harsh Agrawal', '80', 'M', '1.8', '82','V', 'India']"
   ]
  },
  {
   "cell_type": "code",
   "execution_count": 5,
   "metadata": {},
   "outputs": [
    {
     "name": "stdout",
     "output_type": "stream",
     "text": [
      "Your Initial Cumm. Risk Based on the Invariable Factors are: 0.099\n"
     ]
    }
   ],
   "source": [
    "# Importing the Age, Sex, Region Wise dataset into seperate dataframes\n",
    "\n",
    "if int(p_info[1])>=50:\n",
    "    if p_info[2]=='M':\n",
    "        dataset = pd.read_csv('a_50_male.csv')\n",
    "    else :\n",
    "        dataset = pd.read_csv('a_50_fem.csv')\n",
    "elif int(p_info[1])<50:\n",
    "    if p_info[2]=='M':\n",
    "        dataset = pd.read_csv('b_50_male.csv')\n",
    "    else :\n",
    "        dataset = pd.read_csv('b_50_fem.csv')\n",
    "        \n",
    "# Calculate the dependent Variables\n",
    "# 1. Cumm Risk - Initial Risk depending upon Location and age\n",
    "cumm_risk = (dataset.loc[dataset['Population'] == p_info[6]]).values[0][5]\n",
    "\n",
    "# Decrease the Cumm Risk by 10% if the diet is vegetarian\n",
    "if p_info[5] == 'V':\n",
    "    cumm_risk = 0.9*cumm_risk\n",
    "    \n",
    "\n",
    "# 2. Body-Mass-Index - To calculate risk increase\n",
    "bmi = float(p_info[4])/(float(p_info[3])**2)\n",
    "print('Your Initial Cumm. Risk Based on the Invariable Factors are:', cumm_risk)"
   ]
  },
  {
   "cell_type": "code",
   "execution_count": 6,
   "metadata": {},
   "outputs": [
    {
     "name": "stdout",
     "output_type": "stream",
     "text": [
      "Enter Serially (0:Dont consume, 1:consume) for the diet information mentioned below -\n",
      "Red Meat Nearly 120 Grams a Day\n",
      "Processed Meat nearly 50 grams a day\n",
      "Liquor/Spirit nearly 60 grams/L daily\n",
      "Smoking nearly 3-5 cigarettes a day\n",
      "0110\n"
     ]
    }
   ],
   "source": [
    "# Calcuate the risk Factors the person has -\n",
    "diet = [[1, 'Red Meat Nearly 120 Grams a Day', 1.3, 0], \n",
    "        [2, 'Processed Meat nearly 50 grams a day', 1.15, 0], \n",
    "        [3, 'Liquor/Spirit nearly 60 grams/L daily', 1.3, 0],\n",
    "        [4, 'Smoking nearly 3-5 cigarettes a day', 2.0, 0]]\n",
    "\n",
    "print('Enter Serially (0:Dont consume, 1:consume) for the diet information mentioned below -')\n",
    "for i in range (len(diet)):\n",
    "    print(diet[i][1])\n",
    "inp = input()\n",
    "for i in range (0, len(inp)):\n",
    "    diet[i][3]=inp[i]"
   ]
  },
  {
   "cell_type": "code",
   "execution_count": 7,
   "metadata": {},
   "outputs": [],
   "source": [
    "increase = 0\n",
    "\n",
    "# To calculate the increase in Cumm. Risk by diet factors -\n",
    "for i in range (0, len(diet)):\n",
    "    if(int(diet[i][3])==1):\n",
    "        increase += cumm_risk*(diet[i][2]-1)\n",
    "        \n",
    "# To find the the risk increase if BMI is above 25\n",
    "if bmi >= 25:\n",
    "    increase += cumm_risk\n",
    "    #print(increase)"
   ]
  },
  {
   "cell_type": "code",
   "execution_count": 8,
   "metadata": {},
   "outputs": [
    {
     "name": "stdout",
     "output_type": "stream",
     "text": [
      "Your Initial Risk was 0.099 Your final Risk According the above mentioned details is 0.24255000000000002 Increase in risk due to your diet is 0.14355\n"
     ]
    }
   ],
   "source": [
    "print('Your Initial Risk was',cumm_risk,'Your final Risk According the above mentioned details is', cumm_risk+increase, 'Increase in risk due to your diet is', increase)"
   ]
  },
  {
   "cell_type": "code",
   "execution_count": null,
   "metadata": {},
   "outputs": [],
   "source": []
  }
 ],
 "metadata": {
  "kernelspec": {
   "display_name": "Python 3",
   "language": "python",
   "name": "python3"
  },
  "language_info": {
   "codemirror_mode": {
    "name": "ipython",
    "version": 3
   },
   "file_extension": ".py",
   "mimetype": "text/x-python",
   "name": "python",
   "nbconvert_exporter": "python",
   "pygments_lexer": "ipython3",
   "version": "3.7.4"
  }
 },
 "nbformat": 4,
 "nbformat_minor": 2
}
